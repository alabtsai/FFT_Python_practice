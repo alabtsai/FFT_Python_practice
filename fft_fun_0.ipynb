{
 "cells": [
  {
   "cell_type": "code",
   "execution_count": 1,
   "metadata": {},
   "outputs": [
    {
     "data": {
      "text/plain": [
       "'/home/how/python_FGU'"
      ]
     },
     "execution_count": 1,
     "metadata": {},
     "output_type": "execute_result"
    }
   ],
   "source": [
    "%pwd"
   ]
  },
  {
   "cell_type": "markdown",
   "metadata": {},
   "source": [
    "# DFT of a unit impulse"
   ]
  },
  {
   "cell_type": "code",
   "execution_count": 2,
   "metadata": {},
   "outputs": [
    {
     "name": "stdout",
     "output_type": "stream",
     "text": [
      "[ 1.+0.j  1.+0.j  1.+0.j  1.-0.j]\n"
     ]
    }
   ],
   "source": [
    "import numpy as  np\n",
    "from scipy import fftpack\n",
    "x=np.array([1,0,0,0])\n",
    "X=fftpack.fft(x)\n",
    "print(X)"
   ]
  },
  {
   "cell_type": "markdown",
   "metadata": {},
   "source": [
    "# What about DFT of a step "
   ]
  },
  {
   "cell_type": "code",
   "execution_count": 3,
   "metadata": {
    "scrolled": true
   },
   "outputs": [
    {
     "name": "stdout",
     "output_type": "stream",
     "text": [
      "[ 5. +0.00000000e+00j  1. -3.07768354e+00j  0. -5.55111512e-17j\n",
      "  1. -7.26542528e-01j  0. -2.22044605e-16j  1. +0.00000000e+00j\n",
      "  0. +2.22044605e-16j  1. +7.26542528e-01j  0. +5.55111512e-17j\n",
      "  1. +3.07768354e+00j]\n"
     ]
    }
   ],
   "source": [
    "import numpy as  np\n",
    "from scipy import fftpack\n",
    "x=np.array([1,1,1,1,1,0,0,0,0,0])\n",
    "X=fftpack.fft(x)\n",
    "print(X)"
   ]
  },
  {
   "cell_type": "code",
   "execution_count": 4,
   "metadata": {},
   "outputs": [
    {
     "name": "stdout",
     "output_type": "stream",
     "text": [
      "[  5.00000000e+00   3.23606798e+00   5.55111512e-17   1.23606798e+00\n",
      "   2.22044605e-16   1.00000000e+00   2.22044605e-16   1.23606798e+00\n",
      "   5.55111512e-17   3.23606798e+00]\n"
     ]
    }
   ],
   "source": [
    "Xabs=np.abs(X)\n",
    "print(Xabs)"
   ]
  },
  {
   "cell_type": "code",
   "execution_count": 5,
   "metadata": {
    "collapsed": true
   },
   "outputs": [],
   "source": [
    "%matplotlib inline\n",
    "import matplotlib.pyplot as plt"
   ]
  },
  {
   "cell_type": "markdown",
   "metadata": {},
   "source": [
    "#  unpack the tuple into variables fig ans ax"
   ]
  },
  {
   "cell_type": "code",
   "execution_count": 9,
   "metadata": {},
   "outputs": [
    {
     "name": "stdout",
     "output_type": "stream",
     "text": [
      "<class 'matplotlib.axes._subplots.AxesSubplot'>\n"
     ]
    },
    {
     "data": {
      "text/plain": [
       "<Container object of 3 artists>"
      ]
     },
     "execution_count": 9,
     "metadata": {},
     "output_type": "execute_result"
    },
    {
     "data": {
      "image/png": "[encoded data removed]",
      "text/plain": [
       "<matplotlib.figure.Figure at 0x7f04f6ae4dd8>"
      ]
     },
     "metadata": {},
     "output_type": "display_data"
    }
   ],
   "source": [
    "fig,ax=plt.subplots() \n",
    "print(type(ax))\n",
    "indx=[0,1,2,3,4,5,6,7,8,9]\n",
    "ax.stem(indx,Xabs)"
   ]
  },
  {
   "cell_type": "code",
   "execution_count": null,
   "metadata": {
    "collapsed": true
   },
   "outputs": [],
   "source": []
  }
 ],
 "metadata": {
  "kernelspec": {
   "display_name": "Python 3",
   "language": "python",
   "name": "python3"
  },
  "language_info": {
   "codemirror_mode": {
    "name": "ipython",
    "version": 3
   },
   "file_extension": ".py",
   "mimetype": "text/x-python",
   "name": "python",
   "nbconvert_exporter": "python",
   "pygments_lexer": "ipython3",
   "version": "3.6.3"
  }
 },
 "nbformat": 4,
 "nbformat_minor": 2
}
